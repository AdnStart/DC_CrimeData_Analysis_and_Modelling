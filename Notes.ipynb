{
 "cells": [
  {
   "cell_type": "markdown",
   "id": "34f68fc4",
   "metadata": {},
   "source": [
    "# DC_2019"
   ]
  },
  {
   "cell_type": "markdown",
   "id": "85d3df10",
   "metadata": {},
   "source": [
    "## Main foreign keys: \n",
    "INCIDENT_ID\\\n",
    "VICTIM_ID\\\n",
    "OFFENDER_ID"
   ]
  },
  {
   "cell_type": "markdown",
   "id": "86b51b8b",
   "metadata": {},
   "source": [
    "## Vocabulary\n",
    "- LEA:   Law Enforcement Agency\n",
    "- LEOKA: Law Enforcement Officer Killed or Assaulted\n",
    "- Crime Incident ([source](https://www.icpsr.umich.edu/web/pages/NACJD/NIBRS/concepts.html \"concepts_source\"))\n",
    "    - Central to NIBRS is the concept of a crime incident. An \"incident\" is defined for NIBRS reporting purposes as one or more offenses committed by the same offender, or group of offenders acting in concert, at the same time and place. \"Acting in concert\" requires that the offenders actually commit or assist in the commission of the crime(s). **The offenders must be aware of, and consent to, the commission of the crime(s); or even if nonconsenting, their actions assist in the commission of the offense(s).** This is important because all of the offenders in an incident are considered to have committed all of the offenses in the incident. If one or more of the offenders did not act in concert, then there is more than one incident involved.\n",
    "        \"Same time and place\" means that the time interval between the offenses and the distance between the locations where they occurred were insignificant. Normally, the offenses must have occurred during an unbroken time duration and at the same or adjoining location(s). However, incidents can also be comprised of offenses which by their nature involve continuing criminal activity by the same offender(s) at different times and places, as long as the activity is deemed to constitute a single criminal transaction. Examples of crime incidents are included in the NIBRS codebook appendices."
   ]
  },
  {
   "cell_type": "markdown",
   "id": "2ff8a48f",
   "metadata": {},
   "source": [
    "## Tables exploration"
   ]
  },
  {
   "cell_type": "markdown",
   "id": "718b8f18",
   "metadata": {},
   "source": [
    "### Using offenders instead of arrestees\n",
    "Incidents:\n",
    "- Shape: (4105, 15)\n",
    "- Unique: 4105\n",
    "\n",
    "Offenders:\n",
    "- Shape: (5720, 11)\n",
    "- Unique: 5720\n",
    "\n",
    "Arrestees:\n",
    "- Shape: (2175, 15)\n",
    "- Unique: 2175\n",
    "\n",
    "All incidents IDs from the Incidents table can be found in the offenders table. \n",
    "\n",
    "Also, Group B offenses are reported with only the arrest information but I checked the group for all the OFFENSE_ID linked to the INCIDENT_ID from the NIBRS_OFFENSE.csv and they are all in group A.\n",
    "\n",
    "So I will use Offenders since it has enough information for our purpose and we are more interested in the offender than in the arrest."
   ]
  },
  {
   "cell_type": "markdown",
   "id": "970ccbe5",
   "metadata": {},
   "source": [
    "### NIBRS_INCIDENT\n",
    "- Months have internal IDs (might be unique per \"agency\"). The actual year and \"normal\" month number can be found by joining with the NIBRS_month table\n",
    "- CARGO_THEFT_FLAG indicates if the incident involved a cargo theft. This is reported due to the economic impact of these thefts\n",
    "- INCIDENT_DATE is indeed the date or the beginning of the time-period in which the incident occurred.\n",
    "- REPORT_DATE_FLAG: if equals R, the date of the incident is unknown and the date is the report date.\n",
    "- CLEARED_EXCEPT_ID column may have the following reasons:\n",
    "    - Death of Offender\n",
    "    - Prosecution Declined\n",
    "    - In Custody of Other Jurisdiction\n",
    "    - Victim Refused to Cooperate\n",
    "    - Juvenile/No Custody\n",
    "    - Not Applicable\n",
    "- Not interesting:\n",
    "    - DATA_HOME: no staging, always \"C\"\n",
    "    - FF_LINE_NUMBER: unused\n",
    "    - DID: seems to be internal classification. Seems not relevant for us.\n",
    "- **JOIN_fields**:\n",
    "    - with **NIBRS_month** on NIBRS_MONTH_ID to get month and year\n",
    "    - with **NIBRS_VICTIM** on VICTIM_ID to get the VICTIM_ID\n",
    "    - with **NIBRS_OFFENDER** on OFFENDER_ID to get the OFFENDER_ID\n",
    "    - with **NIBRS_OFFENSE** on INCIDENT_ID to get the OFFENSE_ID"
   ]
  },
  {
   "cell_type": "markdown",
   "id": "c2e75290",
   "metadata": {},
   "source": [
    "### NIBRS_OFFENDER\n",
    "- An incident may have several offenders, to each is given a sequential number per incident with OFFENDER_SEQ_NUM\n",
    "- Out of 7 AGE_ID values (0 to 6) there are only values 4 and 5, corresponding respectively \"Unknown\" and age in years\n",
    "- When AGE_ID is 5:\n",
    "    - AGE_NUM: \n",
    "        - will be either exact age or the average age if the value range column is populated. However:\n",
    "            - if one value in the AGE_RANGE_HIGH_NUM column is 0 (AGE_RANGE_LOW_NUM column has no values at 0), the value taken is not the average but the value in the AGE_RANGE_LOW_NUM column\n",
    "            - there are not AGE_RANGE_LOW_NUM with 0 value, only AGE_RANGE_HIGH_NUM has 0 values\n",
    "- Before 2016, not possible to know if AGE_NUM is average or exact age\n",
    "- **JOIN_fields**:\n",
    "    - with **NIBRS_VICTIM_OFFENDER_REL** on OFFENDER_ID to get the RELATIONSHIP_ID"
   ]
  },
  {
   "cell_type": "markdown",
   "id": "7b3da4a0",
   "metadata": {},
   "source": [
    "### NIBRS_VICTIM\n",
    "- An incident may have several victims, to each is given a sequential number per incident with VICTIM_SEQ_NUM\n",
    "- VICTIM_TYPE_ID, used to categorize the victim. Categories should be like \"Government, Institution, Individual, etc...\" but there are numbers in the table and not reference to what those numbers mean.\n",
    "- RESIDENT_STATUS_CODE: the victim was a resident in the reporting agency's jurisdiction at the time of the incident. R = Resident; N = Nonresident\n",
    "- **JOIN_fields**:\n",
    "    - with **NIBRS_VICTIM_OFFENDER_REL** on VICTIM_ID to get the RELATIONSHIP_ID\n",
    "    - with **NIBRS_VICTIM_CIRCUMSTANCES** on VICTIM_ID to get CIRCUMSTANCES_ID\n",
    "    - with **NIBRS_VICTIM_TYPE** on VICTIM_TYPE_ID to get type of victim (maybe only individuals)"
   ]
  },
  {
   "cell_type": "markdown",
   "id": "4dd7df86",
   "metadata": {},
   "source": [
    "### NIBRS_OFFENSE\n",
    "- OFFENSE_ID: Internal unique ID.\n",
    "- OFFENSE_TYPE_ID: references the type of offense. Should be joinded with the NIBRS_OFFENSE_TYPE table to get the offense description\n",
    "- LOCATION_ID: joined with the NIBRS_LOCATION_TYPE table gives the kind of location. Interesting for geographical data\n",
    "- **SplitFields:** \n",
    "    - ATTEMPT_COMPLETE_FLAG: Whether the offense was attempted or completed. A = Attempted; C = Completed. Could be used for a split in an analysis.\n",
    "    - METHOD_ENTRY_CODE: Method of entry of a structure when offense is Burglary. F = Force; N = No Force. Could be used for a split but maybe more about methods or to look for correlation between No Force and victime-offender relationship\n",
    "- **JOIN fields**:\n",
    "    - with **NIBRS_OFFENSE_TYPE** on OFFENSE_TYPE_ID to get the offense description\n",
    "    - with **NIBRS_BIAS_MOTIVATION** on OFFENSE_ID to get the BIAS_ID\n",
    "    - with **NIBRS_OFFENSE_TYPE** on OFFENSE_TYPE_ID to get OFFENSE_NAME and OFFENSE_CATEGORY_NAME\n",
    "    - with **NIBRS_LOCATION_TYPE** on LOCATION_ID to get geographical location type"
   ]
  },
  {
   "cell_type": "markdown",
   "id": "bbc1a0e2",
   "metadata": {},
   "source": [
    "### NIBRS_OFFENSE_TYPE\n",
    "- OFFENSE_CODE can be left out, and use OFFENSE_TYPE_ID with OFFENSE_NAME instead\n",
    "- **GroupingFields:**\n",
    "    - OFFENSE_CATEGORY_NAME already provides categories for the offenses\n",
    "- **SplitFields:** \n",
    "    - CRIME_AGAINST can be used to split between crime against person or property\n",
    "    - OFFENSE_GROUP would make a split between A and B groups offenses. Only interesting if we want, for instance, to include group B offenses since those have only arrest information"
   ]
  },
  {
   "cell_type": "markdown",
   "id": "1c042e13",
   "metadata": {},
   "source": [
    "### NIBRS_BIAS_LIST / NIBRS_BIAS_MOTIVATION\n",
    "- **JOIN fields**:\n",
    "    - with **NIBRS_BIAS_MOTIVATION** on BIAS_ID to get the motivation description based on ethnicity"
   ]
  },
  {
   "cell_type": "markdown",
   "id": "7a258bce",
   "metadata": {},
   "source": [
    "### NIBRS_RELATIONSHIP / NIBRS_VICTIM_OFFENDER_REL \n",
    "- RELATIONSHIP_TYPE_ID is divided in four levels:\n",
    "    - 1: blood relative or close **family**\n",
    "    - 2: not familry but victim knew offender\n",
    "    - 3: victim did not know offender\n",
    "    - 4: victime is offender\n",
    "- **JOIN fields**:\n",
    "    - with **NIBRS_VICTIM_OFFENDER_REL** on RELATIONSHIP_TYPE_ID to get the relationship between victim and offender"
   ]
  },
  {
   "cell_type": "markdown",
   "id": "00f7e94e",
   "metadata": {},
   "source": [
    "### NIBRS_CIRCUMSTANCES / NIBRS_VICTIM_CIRCUMSTANCES\n",
    "- **JOIN fields**:\n",
    "    - with **NIBRS_VICTIM_CIRCUMSTANCES** on CIRCUMSTANCES_ID to get circumstances of offense"
   ]
  },
  {
   "cell_type": "markdown",
   "id": "d4dc98f1",
   "metadata": {},
   "source": [
    "## Used tables:\n",
    "- agencies???\n",
    "- NIBRS_BIAS_LIST\n",
    "- NIBRS_BIAS_MOTIVATION\n",
    "- NIBRS_CIRCUMSTANCES\n",
    "- NIBRS_INCIDENT\n",
    "- NIBRS_LOCATION_TYPE\n",
    "- NIBRS_month\n",
    "- NIBRS_OFFENDER\n",
    "- NIBRS_OFFENSE_TYPE\n",
    "- NIBRS_OFFENSE\n",
    "- NIBRS_RELATIONSHIP\n",
    "- NIBRS_VICTIM_CIRCUMSTANCES\n",
    "- NIBRS_VICTIM_OFFENDER_REL\n",
    "- NIBRS_VICTIM_TYPE\n",
    "- NIBRS_VICTIM\n",
    "- REF_STATE???\n"
   ]
  },
  {
   "cell_type": "markdown",
   "id": "d3c84810",
   "metadata": {},
   "source": [
    "## Discarded tables:\n",
    "- NIBRS_ACTIVITY_TYPE\n",
    "- NIBRS_AGE (not needed as ages have only values 4 and 5)\n",
    "- NIBRS_ARREST_TYPE (out of scope)\n",
    "- NIBRS_ARRESTEE_WEAPON (out of scope)\n",
    "- NIBRS_ARRESTEE (will use offenders instead of arrestees)\n",
    "- NIBRS_ASSIGNMENT_TYPE (out of scope)\n",
    "- NIBRS_CLEARED_EXCEPT (out of scope)\n",
    "- NIBRS_CRIMINAL_ACT_TYPE (out of scope, no need for juridic qualification of act)\n",
    "- NIBRS_CRIMINAL_ACT (out of scope, no need for juridic qualification of act)\n",
    "- NIBRS_DRUG_MEASURE_TYPE (out of scope)\n",
    "- NIBRS_ETHNICITY (left out by choice)\n",
    "- NIBRS_INJURY (out of scope)\n",
    "- NIBRS_JUSTIFIABLE_FORCE (out of scope)\n",
    "- NIBRS_PROP_DESC_TYPE (out of scope)\n",
    "- NIBRS_PROP_LOSS_TYPE\n",
    "- NIBRS_PROPERTY_DESC (out of scope)\n",
    "- NIBRS_PROPERTY (out of scope)\n",
    "- NIBRS_SUSPECT_USING (out of scope)\n",
    "- NIBRS_SUSPECTED_DRUG_TYPE\n",
    "- NIBRS_SUSPECTED_DRUG\n",
    "- NIBRS_USING_LIST\n",
    "- NIBRS_VICTIM_INJURY (out of scope)\n",
    "- NIBRS_VICTIM_OFFENSE (can get info with other joins)\n",
    "- NIBRS_WEAPON_TYPE\n",
    "- NIBRS_WEAPON (out of scope)\n",
    "- REF_RACE (choice)\n",
    "- NIBRS_VICTIM_INJURY (out of scope)"
   ]
  },
  {
   "cell_type": "markdown",
   "id": "a82a85c0",
   "metadata": {},
   "source": [
    "## Working notes\n"
   ]
  },
  {
   "cell_type": "markdown",
   "id": "58afc489",
   "metadata": {},
   "source": [
    "- the 1833 observations of the \"AGE_ID\" column (for the victim) for which the value is NaN correspond to the observations of the \"SEX_CODE\" column (for the victim) for which the value is NaN\n",
    "- confirmed that when AGE_RANGE_HIGH_NUM column is 0, the value taken is not the average but the value in the AGE_RANGE_LOW_NUM column\n",
    "- according to the NIBRS guide: *\"When age range is populated, the system will store the average age here, decimal value truncated.\"*\\ However, AGE_RANGE_HIGH_NUM and AGE_RANGE_LOW_NUM are always populated (except when \"SEX_CODE\" is not populated; which might then indicate that the value is missing alltogether). Only AGE_RANGE_HIGH_NUM can have its value set to 0 which tends to indicate that \"not populated\" means \"value set to 0\". If this logic is true, this means that we have 3234 records for which we know the age of the victim (i.e. records where \"AGE_RANGE_HIGH_NUM\" is set to 0 and the \"AGE_ID\" is set to 5)"
   ]
  },
  {
   "cell_type": "markdown",
   "id": "cf1478d8",
   "metadata": {},
   "source": [
    "- plan for missing values:\n",
    "    - INCIDENT_HOUR: fill with mean\n",
    "    - offender_gender data: drop it, as we'll concentrate on the victim's POV\n",
    "    - victim data: drop columns with NaN values (as this does not change the NaN values in the Relationship data)\n",
    "    - CIRCUMSTANCES columns: drop them, only about 310 values there\n",
    "    - RELATIONSHIP columns...?"
   ]
  },
  {
   "cell_type": "code",
   "execution_count": null,
   "id": "c063018a",
   "metadata": {},
   "outputs": [],
   "source": []
  }
 ],
 "metadata": {
  "kernelspec": {
   "display_name": "Python 3",
   "language": "python",
   "name": "python3"
  },
  "language_info": {
   "codemirror_mode": {
    "name": "ipython",
    "version": 3
   },
   "file_extension": ".py",
   "mimetype": "text/x-python",
   "name": "python",
   "nbconvert_exporter": "python",
   "pygments_lexer": "ipython3",
   "version": "3.8.8"
  }
 },
 "nbformat": 4,
 "nbformat_minor": 5
}
