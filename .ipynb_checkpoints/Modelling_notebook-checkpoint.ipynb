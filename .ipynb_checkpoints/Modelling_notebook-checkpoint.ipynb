{
 "cells": [
  {
   "cell_type": "markdown",
   "id": "ebc3a59a",
   "metadata": {
    "slideshow": {
     "slide_type": "skip"
    }
   },
   "source": [
    "# Libraries"
   ]
  },
  {
   "cell_type": "code",
   "execution_count": 1,
   "id": "4afef5bc",
   "metadata": {
    "slideshow": {
     "slide_type": "skip"
    }
   },
   "outputs": [],
   "source": [
    "import numpy as np\n",
    "import pandas as pd\n",
    "import matplotlib.pyplot as plt\n",
    "import seaborn as sns"
   ]
  },
  {
   "cell_type": "markdown",
   "id": "7c2b1397",
   "metadata": {
    "slideshow": {
     "slide_type": "skip"
    }
   },
   "source": [
    "# DataFrame Building"
   ]
  },
  {
   "cell_type": "code",
   "execution_count": 2,
   "id": "1aec15e7",
   "metadata": {
    "slideshow": {
     "slide_type": "skip"
    }
   },
   "outputs": [],
   "source": [
    "#DataFrame Building function\n",
    "def build_data_frame():\n",
    "    return (\n",
    "pd.read_csv(incident)[[\"INCIDENT_ID\",\"NIBRS_MONTH_ID\",\"INCIDENT_HOUR\"]]\n",
    ".merge(pd.read_csv(month)\n",
    "      [[\"NIBRS_MONTH_ID\",\"MONTH_NUM\"]],\n",
    "      on=\"NIBRS_MONTH_ID\", how=\"left\") \n",
    "    #4105 rows after merge\n",
    "    \n",
    ".merge(pd.read_csv(offense)\n",
    "    [[\"INCIDENT_ID\",\"OFFENSE_ID\",\"OFFENSE_TYPE_ID\",\"LOCATION_ID\"]], on=\"INCIDENT_ID\", how=\"left\") \n",
    "    #4510 rows(+405 rows) after merge. One incident may have several offenses\n",
    "    \n",
    ".merge(pd.read_csv(location)\n",
    "    [[\"LOCATION_ID\",\"LOCATION_NAME\"]],\n",
    "      on=\"LOCATION_ID\", how=\"left\") \n",
    "    #still 4510 rows afet merge\n",
    "    \n",
    ".merge(pd.read_csv(offense_type)\n",
    "    [[\"OFFENSE_TYPE_ID\",\"OFFENSE_NAME\",\"CRIME_AGAINST\",\"OFFENSE_CATEGORY_NAME\"]], \n",
    "       on=\"OFFENSE_TYPE_ID\", how=\"left\")\n",
    "    #still 4510 rows after merge\n",
    "    \n",
    ".merge(pd.read_csv(offender)\n",
    "    [[\"INCIDENT_ID\",\"OFFENDER_ID\",\"SEX_CODE\",\"AGE_ID\",\"AGE_NUM\",\"AGE_RANGE_LOW_NUM\",\"AGE_RANGE_HIGH_NUM\"]]\n",
    "    .rename(columns=\n",
    "               {\n",
    "                   \"SEX_CODE\": \"offender_gender\",\n",
    "                   \"AGE_ID\": \"offender_age_id\",\n",
    "                   \"AGE_NUM\": \"offender_age\",\n",
    "                   \"AGE_RANGE_LOW_NUM\":\"offender_age_range_low\",\n",
    "                   \"AGE_RANGE_HIGH_NUM\": \"offender_age_range_high\"\n",
    "               }), \n",
    "       on=\"INCIDENT_ID\", how=\"left\")\n",
    "    #6305 rows (+1795 rows) after merge. One incident may have several offenders\n",
    "    \n",
    ".merge(pd.read_csv(victim)\n",
    "    [[\"INCIDENT_ID\",\"VICTIM_ID\",\"VICTIM_TYPE_ID\",\"SEX_CODE\",\"AGE_ID\",\"AGE_NUM\",\"AGE_RANGE_LOW_NUM\",\"AGE_RANGE_HIGH_NUM\",\"RESIDENT_STATUS_CODE\"]]\n",
    "       .rename(columns=\n",
    "               {\n",
    "                   \"SEX_CODE\": \"victim_gender\",\n",
    "                   \"AGE_ID\": \"victim_age_id\",\n",
    "                   \"AGE_NUM\": \"victim_age\",\n",
    "                   \"AGE_RANGE_LOW_NUM\": \"victim_age_range_low\",\n",
    "                   \"AGE_RANGE_HIGH_NUM\": \"victim_age_range_high\",\n",
    "                   \"RESIDENT_STATUS_CODE\": \"victim_resident_code\"\n",
    "               }),\n",
    "       on=\"INCIDENT_ID\", how=\"left\")\n",
    "    #7674 rows (+1369 rows) after merge. One victime may have several offenders\n",
    "    \n",
    ".merge(pd.read_csv(victim_type)\n",
    "    [[\"VICTIM_TYPE_ID\",\"VICTIM_TYPE_NAME\"]],\n",
    "      on=\"VICTIM_TYPE_ID\", how=\"left\")\n",
    "    #still 7674 rows after merge\n",
    "    \n",
    ".merge(pd.read_csv(circumstances_victim_correspondance)\n",
    "    [[\"VICTIM_ID\",\"CIRCUMSTANCES_ID\"]],\n",
    "      on=\"VICTIM_ID\", how=\"left\")\n",
    "    #still 7674 rows after merge\n",
    "    \n",
    ".merge(pd.read_csv(circumstances_list)\n",
    "    [[\"CIRCUMSTANCES_ID\",\"CIRCUMSTANCES_NAME\"]],\n",
    "      on=\"CIRCUMSTANCES_ID\", how=\"left\")\n",
    "    #still 7674 rows after merge\n",
    "    \n",
    "#.merge(pd.read_csv(bias_offense_id_correspondance)\n",
    "#    [[\"OFFENSE_ID\",\"BIAS_ID\"]],\n",
    "#      on=\"OFFENSE_ID\", how=\"left\")\n",
    "#    #still 7674 rows after merge\n",
    "    \n",
    "#.merge(pd.read_csv(bias_list)\n",
    "#    [[\"BIAS_ID\",\"BIAS_CATEGORY\",\"BIAS_DESC\"]],\n",
    "#      on=\"BIAS_ID\", how=\"left\")\n",
    "    #still 7674 rows after merge\n",
    "    \n",
    "#.merge(pd.read_csv(offender_victim_relationship)\n",
    "#    [[\"VICTIM_ID\",\"RELATIONSHIP_ID\"]],\n",
    "#      on=\"VICTIM_ID\", how=\"left\")\n",
    "#    #15786 rows (+8112 rows) after merge. One victim may have several relationships (several offenders)\n",
    "\n",
    "#.merge(pd.read_csv(relationships_list)\n",
    "#    [[\"RELATIONSHIP_ID\",\"RELATIONSHIP_NAME\",\"RELATIONSHIP_TYPE_ID\"]],\n",
    "#      on=\"RELATIONSHIP_ID\", how=\"left\")\n",
    "#    #still 15786 rows after merge\n",
    "#    #15786 rows × 34 columns\n",
    ".drop_duplicates()\n",
    ")"
   ]
  },
  {
   "cell_type": "code",
   "execution_count": 3,
   "id": "6dc3138d",
   "metadata": {
    "slideshow": {
     "slide_type": "skip"
    }
   },
   "outputs": [
    {
     "data": {
      "text/html": [
       "<div>\n",
       "<style scoped>\n",
       "    .dataframe tbody tr th:only-of-type {\n",
       "        vertical-align: middle;\n",
       "    }\n",
       "\n",
       "    .dataframe tbody tr th {\n",
       "        vertical-align: top;\n",
       "    }\n",
       "\n",
       "    .dataframe thead th {\n",
       "        text-align: right;\n",
       "    }\n",
       "</style>\n",
       "<table border=\"1\" class=\"dataframe\">\n",
       "  <thead>\n",
       "    <tr style=\"text-align: right;\">\n",
       "      <th></th>\n",
       "      <th>INCIDENT_ID</th>\n",
       "      <th>NIBRS_MONTH_ID</th>\n",
       "      <th>INCIDENT_HOUR</th>\n",
       "      <th>MONTH_NUM</th>\n",
       "      <th>OFFENSE_ID</th>\n",
       "      <th>OFFENSE_TYPE_ID</th>\n",
       "      <th>LOCATION_ID</th>\n",
       "      <th>LOCATION_NAME</th>\n",
       "      <th>OFFENSE_NAME</th>\n",
       "      <th>CRIME_AGAINST</th>\n",
       "      <th>...</th>\n",
       "      <th>VICTIM_TYPE_ID</th>\n",
       "      <th>victim_gender</th>\n",
       "      <th>victim_age_id</th>\n",
       "      <th>victim_age</th>\n",
       "      <th>victim_age_range_low</th>\n",
       "      <th>victim_age_range_high</th>\n",
       "      <th>victim_resident_code</th>\n",
       "      <th>VICTIM_TYPE_NAME</th>\n",
       "      <th>CIRCUMSTANCES_ID</th>\n",
       "      <th>CIRCUMSTANCES_NAME</th>\n",
       "    </tr>\n",
       "  </thead>\n",
       "  <tbody>\n",
       "    <tr>\n",
       "      <th>0</th>\n",
       "      <td>90848610</td>\n",
       "      <td>7629825</td>\n",
       "      <td>9.0</td>\n",
       "      <td>7</td>\n",
       "      <td>112968080</td>\n",
       "      <td>5</td>\n",
       "      <td>1</td>\n",
       "      <td>Air/Bus/Train Terminal</td>\n",
       "      <td>Destruction/Damage/Vandalism of Property</td>\n",
       "      <td>Property</td>\n",
       "      <td>...</td>\n",
       "      <td>3</td>\n",
       "      <td>NaN</td>\n",
       "      <td>NaN</td>\n",
       "      <td>NaN</td>\n",
       "      <td>NaN</td>\n",
       "      <td>NaN</td>\n",
       "      <td>NaN</td>\n",
       "      <td>Government</td>\n",
       "      <td>NaN</td>\n",
       "      <td>NaN</td>\n",
       "    </tr>\n",
       "    <tr>\n",
       "      <th>1</th>\n",
       "      <td>90848428</td>\n",
       "      <td>7629825</td>\n",
       "      <td>13.0</td>\n",
       "      <td>7</td>\n",
       "      <td>112967863</td>\n",
       "      <td>16</td>\n",
       "      <td>13</td>\n",
       "      <td>Highway/Road/Alley/Street/Sidewalk</td>\n",
       "      <td>Drug/Narcotic Violations</td>\n",
       "      <td>Society</td>\n",
       "      <td>...</td>\n",
       "      <td>8</td>\n",
       "      <td>NaN</td>\n",
       "      <td>NaN</td>\n",
       "      <td>NaN</td>\n",
       "      <td>NaN</td>\n",
       "      <td>NaN</td>\n",
       "      <td>NaN</td>\n",
       "      <td>Society/Public</td>\n",
       "      <td>NaN</td>\n",
       "      <td>NaN</td>\n",
       "    </tr>\n",
       "    <tr>\n",
       "      <th>2</th>\n",
       "      <td>90848294</td>\n",
       "      <td>7629825</td>\n",
       "      <td>12.0</td>\n",
       "      <td>7</td>\n",
       "      <td>112967713</td>\n",
       "      <td>51</td>\n",
       "      <td>1</td>\n",
       "      <td>Air/Bus/Train Terminal</td>\n",
       "      <td>Simple Assault</td>\n",
       "      <td>Person</td>\n",
       "      <td>...</td>\n",
       "      <td>4</td>\n",
       "      <td>M</td>\n",
       "      <td>5.0</td>\n",
       "      <td>23.0</td>\n",
       "      <td>23.0</td>\n",
       "      <td>0.0</td>\n",
       "      <td>R</td>\n",
       "      <td>Individual</td>\n",
       "      <td>NaN</td>\n",
       "      <td>NaN</td>\n",
       "    </tr>\n",
       "    <tr>\n",
       "      <th>3</th>\n",
       "      <td>90848298</td>\n",
       "      <td>7605220</td>\n",
       "      <td>23.0</td>\n",
       "      <td>6</td>\n",
       "      <td>112967717</td>\n",
       "      <td>14</td>\n",
       "      <td>18</td>\n",
       "      <td>Parking/Drop Lot/Garage</td>\n",
       "      <td>Theft From Motor Vehicle</td>\n",
       "      <td>Property</td>\n",
       "      <td>...</td>\n",
       "      <td>4</td>\n",
       "      <td>M</td>\n",
       "      <td>5.0</td>\n",
       "      <td>32.0</td>\n",
       "      <td>32.0</td>\n",
       "      <td>0.0</td>\n",
       "      <td>N</td>\n",
       "      <td>Individual</td>\n",
       "      <td>NaN</td>\n",
       "      <td>NaN</td>\n",
       "    </tr>\n",
       "    <tr>\n",
       "      <th>4</th>\n",
       "      <td>90848288</td>\n",
       "      <td>7605220</td>\n",
       "      <td>18.0</td>\n",
       "      <td>6</td>\n",
       "      <td>112967705</td>\n",
       "      <td>56</td>\n",
       "      <td>1</td>\n",
       "      <td>Air/Bus/Train Terminal</td>\n",
       "      <td>Fondling</td>\n",
       "      <td>Person</td>\n",
       "      <td>...</td>\n",
       "      <td>4</td>\n",
       "      <td>F</td>\n",
       "      <td>5.0</td>\n",
       "      <td>30.0</td>\n",
       "      <td>30.0</td>\n",
       "      <td>0.0</td>\n",
       "      <td>N</td>\n",
       "      <td>Individual</td>\n",
       "      <td>NaN</td>\n",
       "      <td>NaN</td>\n",
       "    </tr>\n",
       "    <tr>\n",
       "      <th>...</th>\n",
       "      <td>...</td>\n",
       "      <td>...</td>\n",
       "      <td>...</td>\n",
       "      <td>...</td>\n",
       "      <td>...</td>\n",
       "      <td>...</td>\n",
       "      <td>...</td>\n",
       "      <td>...</td>\n",
       "      <td>...</td>\n",
       "      <td>...</td>\n",
       "      <td>...</td>\n",
       "      <td>...</td>\n",
       "      <td>...</td>\n",
       "      <td>...</td>\n",
       "      <td>...</td>\n",
       "      <td>...</td>\n",
       "      <td>...</td>\n",
       "      <td>...</td>\n",
       "      <td>...</td>\n",
       "      <td>...</td>\n",
       "      <td>...</td>\n",
       "    </tr>\n",
       "    <tr>\n",
       "      <th>7669</th>\n",
       "      <td>123059907</td>\n",
       "      <td>8226910</td>\n",
       "      <td>NaN</td>\n",
       "      <td>12</td>\n",
       "      <td>148906547</td>\n",
       "      <td>5</td>\n",
       "      <td>18</td>\n",
       "      <td>Parking/Drop Lot/Garage</td>\n",
       "      <td>Destruction/Damage/Vandalism of Property</td>\n",
       "      <td>Property</td>\n",
       "      <td>...</td>\n",
       "      <td>4</td>\n",
       "      <td>F</td>\n",
       "      <td>5.0</td>\n",
       "      <td>37.0</td>\n",
       "      <td>37.0</td>\n",
       "      <td>0.0</td>\n",
       "      <td>R</td>\n",
       "      <td>Individual</td>\n",
       "      <td>NaN</td>\n",
       "      <td>NaN</td>\n",
       "    </tr>\n",
       "    <tr>\n",
       "      <th>7670</th>\n",
       "      <td>123059907</td>\n",
       "      <td>8226910</td>\n",
       "      <td>NaN</td>\n",
       "      <td>12</td>\n",
       "      <td>148906547</td>\n",
       "      <td>5</td>\n",
       "      <td>18</td>\n",
       "      <td>Parking/Drop Lot/Garage</td>\n",
       "      <td>Destruction/Damage/Vandalism of Property</td>\n",
       "      <td>Property</td>\n",
       "      <td>...</td>\n",
       "      <td>4</td>\n",
       "      <td>F</td>\n",
       "      <td>5.0</td>\n",
       "      <td>57.0</td>\n",
       "      <td>57.0</td>\n",
       "      <td>0.0</td>\n",
       "      <td>R</td>\n",
       "      <td>Individual</td>\n",
       "      <td>NaN</td>\n",
       "      <td>NaN</td>\n",
       "    </tr>\n",
       "    <tr>\n",
       "      <th>7671</th>\n",
       "      <td>123059907</td>\n",
       "      <td>8226910</td>\n",
       "      <td>NaN</td>\n",
       "      <td>12</td>\n",
       "      <td>148906546</td>\n",
       "      <td>14</td>\n",
       "      <td>18</td>\n",
       "      <td>Parking/Drop Lot/Garage</td>\n",
       "      <td>Theft From Motor Vehicle</td>\n",
       "      <td>Property</td>\n",
       "      <td>...</td>\n",
       "      <td>4</td>\n",
       "      <td>M</td>\n",
       "      <td>5.0</td>\n",
       "      <td>68.0</td>\n",
       "      <td>68.0</td>\n",
       "      <td>0.0</td>\n",
       "      <td>R</td>\n",
       "      <td>Individual</td>\n",
       "      <td>NaN</td>\n",
       "      <td>NaN</td>\n",
       "    </tr>\n",
       "    <tr>\n",
       "      <th>7672</th>\n",
       "      <td>123059907</td>\n",
       "      <td>8226910</td>\n",
       "      <td>NaN</td>\n",
       "      <td>12</td>\n",
       "      <td>148906546</td>\n",
       "      <td>14</td>\n",
       "      <td>18</td>\n",
       "      <td>Parking/Drop Lot/Garage</td>\n",
       "      <td>Theft From Motor Vehicle</td>\n",
       "      <td>Property</td>\n",
       "      <td>...</td>\n",
       "      <td>4</td>\n",
       "      <td>F</td>\n",
       "      <td>5.0</td>\n",
       "      <td>37.0</td>\n",
       "      <td>37.0</td>\n",
       "      <td>0.0</td>\n",
       "      <td>R</td>\n",
       "      <td>Individual</td>\n",
       "      <td>NaN</td>\n",
       "      <td>NaN</td>\n",
       "    </tr>\n",
       "    <tr>\n",
       "      <th>7673</th>\n",
       "      <td>123059907</td>\n",
       "      <td>8226910</td>\n",
       "      <td>NaN</td>\n",
       "      <td>12</td>\n",
       "      <td>148906546</td>\n",
       "      <td>14</td>\n",
       "      <td>18</td>\n",
       "      <td>Parking/Drop Lot/Garage</td>\n",
       "      <td>Theft From Motor Vehicle</td>\n",
       "      <td>Property</td>\n",
       "      <td>...</td>\n",
       "      <td>4</td>\n",
       "      <td>F</td>\n",
       "      <td>5.0</td>\n",
       "      <td>57.0</td>\n",
       "      <td>57.0</td>\n",
       "      <td>0.0</td>\n",
       "      <td>R</td>\n",
       "      <td>Individual</td>\n",
       "      <td>NaN</td>\n",
       "      <td>NaN</td>\n",
       "    </tr>\n",
       "  </tbody>\n",
       "</table>\n",
       "<p>18695 rows × 28 columns</p>\n",
       "</div>"
      ],
      "text/plain": [
       "      INCIDENT_ID  NIBRS_MONTH_ID  INCIDENT_HOUR  MONTH_NUM  OFFENSE_ID  \\\n",
       "0        90848610         7629825            9.0          7   112968080   \n",
       "1        90848428         7629825           13.0          7   112967863   \n",
       "2        90848294         7629825           12.0          7   112967713   \n",
       "3        90848298         7605220           23.0          6   112967717   \n",
       "4        90848288         7605220           18.0          6   112967705   \n",
       "...           ...             ...            ...        ...         ...   \n",
       "7669    123059907         8226910            NaN         12   148906547   \n",
       "7670    123059907         8226910            NaN         12   148906547   \n",
       "7671    123059907         8226910            NaN         12   148906546   \n",
       "7672    123059907         8226910            NaN         12   148906546   \n",
       "7673    123059907         8226910            NaN         12   148906546   \n",
       "\n",
       "      OFFENSE_TYPE_ID  LOCATION_ID                       LOCATION_NAME  \\\n",
       "0                   5            1              Air/Bus/Train Terminal   \n",
       "1                  16           13  Highway/Road/Alley/Street/Sidewalk   \n",
       "2                  51            1              Air/Bus/Train Terminal   \n",
       "3                  14           18             Parking/Drop Lot/Garage   \n",
       "4                  56            1              Air/Bus/Train Terminal   \n",
       "...               ...          ...                                 ...   \n",
       "7669                5           18             Parking/Drop Lot/Garage   \n",
       "7670                5           18             Parking/Drop Lot/Garage   \n",
       "7671               14           18             Parking/Drop Lot/Garage   \n",
       "7672               14           18             Parking/Drop Lot/Garage   \n",
       "7673               14           18             Parking/Drop Lot/Garage   \n",
       "\n",
       "                                  OFFENSE_NAME CRIME_AGAINST  ...  \\\n",
       "0     Destruction/Damage/Vandalism of Property      Property  ...   \n",
       "1                     Drug/Narcotic Violations       Society  ...   \n",
       "2                               Simple Assault        Person  ...   \n",
       "3                     Theft From Motor Vehicle      Property  ...   \n",
       "4                                     Fondling        Person  ...   \n",
       "...                                        ...           ...  ...   \n",
       "7669  Destruction/Damage/Vandalism of Property      Property  ...   \n",
       "7670  Destruction/Damage/Vandalism of Property      Property  ...   \n",
       "7671                  Theft From Motor Vehicle      Property  ...   \n",
       "7672                  Theft From Motor Vehicle      Property  ...   \n",
       "7673                  Theft From Motor Vehicle      Property  ...   \n",
       "\n",
       "     VICTIM_TYPE_ID  victim_gender victim_age_id  victim_age  \\\n",
       "0                 3            NaN           NaN         NaN   \n",
       "1                 8            NaN           NaN         NaN   \n",
       "2                 4              M           5.0        23.0   \n",
       "3                 4              M           5.0        32.0   \n",
       "4                 4              F           5.0        30.0   \n",
       "...             ...            ...           ...         ...   \n",
       "7669              4              F           5.0        37.0   \n",
       "7670              4              F           5.0        57.0   \n",
       "7671              4              M           5.0        68.0   \n",
       "7672              4              F           5.0        37.0   \n",
       "7673              4              F           5.0        57.0   \n",
       "\n",
       "      victim_age_range_low  victim_age_range_high  victim_resident_code  \\\n",
       "0                      NaN                    NaN                   NaN   \n",
       "1                      NaN                    NaN                   NaN   \n",
       "2                     23.0                    0.0                     R   \n",
       "3                     32.0                    0.0                     N   \n",
       "4                     30.0                    0.0                     N   \n",
       "...                    ...                    ...                   ...   \n",
       "7669                  37.0                    0.0                     R   \n",
       "7670                  57.0                    0.0                     R   \n",
       "7671                  68.0                    0.0                     R   \n",
       "7672                  37.0                    0.0                     R   \n",
       "7673                  57.0                    0.0                     R   \n",
       "\n",
       "      VICTIM_TYPE_NAME  CIRCUMSTANCES_ID CIRCUMSTANCES_NAME  \n",
       "0           Government               NaN                NaN  \n",
       "1       Society/Public               NaN                NaN  \n",
       "2           Individual               NaN                NaN  \n",
       "3           Individual               NaN                NaN  \n",
       "4           Individual               NaN                NaN  \n",
       "...                ...               ...                ...  \n",
       "7669        Individual               NaN                NaN  \n",
       "7670        Individual               NaN                NaN  \n",
       "7671        Individual               NaN                NaN  \n",
       "7672        Individual               NaN                NaN  \n",
       "7673        Individual               NaN                NaN  \n",
       "\n",
       "[18695 rows x 28 columns]"
      ]
     },
     "execution_count": 3,
     "metadata": {},
     "output_type": "execute_result"
    }
   ],
   "source": [
    "iteration = 0\n",
    "for i in range(2017,2020):\n",
    "#x=\"2017\"\n",
    "    x = str(i)\n",
    "    incident = \"Data/DC_\"+x+\"/NIBRS_INCIDENT.csv\"\n",
    "    offense = \"Data/DC_\"+x+\"/NIBRS_OFFENSE.csv\"\n",
    "    offense_type = \"Data/DC_\"+x+\"/NIBRS_OFFENSE_TYPE.csv\"\n",
    "    offender = \"Data/DC_\"+x+\"/NIBRS_OFFENDER.csv\"\n",
    "    victim = \"Data/DC_\"+x+\"/NIBRS_VICTIM.csv\"\n",
    "    victim_type = \"Data/DC_\"+x+\"/NIBRS_VICTIM_TYPE.csv\"\n",
    "    month = \"Data/DC_\"+x+\"/NIBRS_month.csv\"\n",
    "    location = \"Data/DC_\"+x+\"/NIBRS_LOCATION_TYPE.csv\"\n",
    "    circumstances_victim_correspondance = \"Data/DC_\"+x+\"/NIBRS_VICTIM_CIRCUMSTANCES.csv\"\n",
    "    circumstances_list = \"Data/DC_\"+x+\"/NIBRS_CIRCUMSTANCES.csv\"\n",
    "    bias_list = \"Data/DC_\"+x+\"/NIBRS_BIAS_LIST.csv\"\n",
    "    bias_offense_id_correspondance = \"Data/DC_\"+x+\"/NIBRS_BIAS_MOTIVATION.csv\"\n",
    "    offender_victim_relationship = \"Data/DC_\"+x+\"/NIBRS_VICTIM_OFFENDER_REL.csv\"\n",
    "    relationships_list = \"Data/DC_\"+x+\"/NIBRS_RELATIONSHIP.csv\"\n",
    "#print(iteration)\n",
    "    if iteration == 0:\n",
    "#        print(\"True\")\n",
    "        df = build_data_frame()\n",
    "    else:\n",
    "        df_temp = build_data_frame()\n",
    "        df = df.append(df_temp)\n",
    "#print(iteration,incident, offense)\n",
    "    iteration += 1\n",
    "df"
   ]
  },
  {
   "cell_type": "markdown",
   "id": "1064e20e",
   "metadata": {
    "slideshow": {
     "slide_type": "skip"
    }
   },
   "source": [
    "# DataFrame cleaning"
   ]
  },
  {
   "cell_type": "markdown",
   "id": "5ced9233",
   "metadata": {
    "slideshow": {
     "slide_type": "skip"
    }
   },
   "source": [
    "## General cleaning"
   ]
  },
  {
   "cell_type": "code",
   "execution_count": 4,
   "id": "666d42da",
   "metadata": {
    "slideshow": {
     "slide_type": "skip"
    }
   },
   "outputs": [
    {
     "data": {
      "text/html": [
       "<div>\n",
       "<style scoped>\n",
       "    .dataframe tbody tr th:only-of-type {\n",
       "        vertical-align: middle;\n",
       "    }\n",
       "\n",
       "    .dataframe tbody tr th {\n",
       "        vertical-align: top;\n",
       "    }\n",
       "\n",
       "    .dataframe thead th {\n",
       "        text-align: right;\n",
       "    }\n",
       "</style>\n",
       "<table border=\"1\" class=\"dataframe\">\n",
       "  <thead>\n",
       "    <tr style=\"text-align: right;\">\n",
       "      <th></th>\n",
       "      <th>incident_hour</th>\n",
       "      <th>month_num</th>\n",
       "      <th>location_name</th>\n",
       "      <th>offense_name</th>\n",
       "      <th>victim_gender</th>\n",
       "      <th>victim_age</th>\n",
       "    </tr>\n",
       "  </thead>\n",
       "  <tbody>\n",
       "    <tr>\n",
       "      <th>2</th>\n",
       "      <td>12.0</td>\n",
       "      <td>7</td>\n",
       "      <td>Air/Bus/Train Terminal</td>\n",
       "      <td>Simple Assault</td>\n",
       "      <td>M</td>\n",
       "      <td>23.0</td>\n",
       "    </tr>\n",
       "    <tr>\n",
       "      <th>3</th>\n",
       "      <td>23.0</td>\n",
       "      <td>6</td>\n",
       "      <td>Parking/Drop Lot/Garage</td>\n",
       "      <td>Theft From Motor Vehicle</td>\n",
       "      <td>M</td>\n",
       "      <td>32.0</td>\n",
       "    </tr>\n",
       "    <tr>\n",
       "      <th>4</th>\n",
       "      <td>18.0</td>\n",
       "      <td>6</td>\n",
       "      <td>Air/Bus/Train Terminal</td>\n",
       "      <td>Fondling</td>\n",
       "      <td>F</td>\n",
       "      <td>30.0</td>\n",
       "    </tr>\n",
       "    <tr>\n",
       "      <th>5</th>\n",
       "      <td>6.0</td>\n",
       "      <td>1</td>\n",
       "      <td>Air/Bus/Train Terminal</td>\n",
       "      <td>All Other Larceny</td>\n",
       "      <td>M</td>\n",
       "      <td>31.0</td>\n",
       "    </tr>\n",
       "    <tr>\n",
       "      <th>6</th>\n",
       "      <td>8.0</td>\n",
       "      <td>1</td>\n",
       "      <td>Air/Bus/Train Terminal</td>\n",
       "      <td>All Other Larceny</td>\n",
       "      <td>M</td>\n",
       "      <td>41.0</td>\n",
       "    </tr>\n",
       "    <tr>\n",
       "      <th>...</th>\n",
       "      <td>...</td>\n",
       "      <td>...</td>\n",
       "      <td>...</td>\n",
       "      <td>...</td>\n",
       "      <td>...</td>\n",
       "      <td>...</td>\n",
       "    </tr>\n",
       "    <tr>\n",
       "      <th>7669</th>\n",
       "      <td>15.5</td>\n",
       "      <td>12</td>\n",
       "      <td>Parking/Drop Lot/Garage</td>\n",
       "      <td>Destruction/Damage/Vandalism of Property</td>\n",
       "      <td>F</td>\n",
       "      <td>37.0</td>\n",
       "    </tr>\n",
       "    <tr>\n",
       "      <th>7670</th>\n",
       "      <td>15.5</td>\n",
       "      <td>12</td>\n",
       "      <td>Parking/Drop Lot/Garage</td>\n",
       "      <td>Destruction/Damage/Vandalism of Property</td>\n",
       "      <td>F</td>\n",
       "      <td>57.0</td>\n",
       "    </tr>\n",
       "    <tr>\n",
       "      <th>7671</th>\n",
       "      <td>15.5</td>\n",
       "      <td>12</td>\n",
       "      <td>Parking/Drop Lot/Garage</td>\n",
       "      <td>Theft From Motor Vehicle</td>\n",
       "      <td>M</td>\n",
       "      <td>68.0</td>\n",
       "    </tr>\n",
       "    <tr>\n",
       "      <th>7672</th>\n",
       "      <td>15.5</td>\n",
       "      <td>12</td>\n",
       "      <td>Parking/Drop Lot/Garage</td>\n",
       "      <td>Theft From Motor Vehicle</td>\n",
       "      <td>F</td>\n",
       "      <td>37.0</td>\n",
       "    </tr>\n",
       "    <tr>\n",
       "      <th>7673</th>\n",
       "      <td>15.5</td>\n",
       "      <td>12</td>\n",
       "      <td>Parking/Drop Lot/Garage</td>\n",
       "      <td>Theft From Motor Vehicle</td>\n",
       "      <td>F</td>\n",
       "      <td>57.0</td>\n",
       "    </tr>\n",
       "  </tbody>\n",
       "</table>\n",
       "<p>8768 rows × 6 columns</p>\n",
       "</div>"
      ],
      "text/plain": [
       "      incident_hour  month_num            location_name  \\\n",
       "2              12.0          7   Air/Bus/Train Terminal   \n",
       "3              23.0          6  Parking/Drop Lot/Garage   \n",
       "4              18.0          6   Air/Bus/Train Terminal   \n",
       "5               6.0          1   Air/Bus/Train Terminal   \n",
       "6               8.0          1   Air/Bus/Train Terminal   \n",
       "...             ...        ...                      ...   \n",
       "7669           15.5         12  Parking/Drop Lot/Garage   \n",
       "7670           15.5         12  Parking/Drop Lot/Garage   \n",
       "7671           15.5         12  Parking/Drop Lot/Garage   \n",
       "7672           15.5         12  Parking/Drop Lot/Garage   \n",
       "7673           15.5         12  Parking/Drop Lot/Garage   \n",
       "\n",
       "                                  offense_name victim_gender  victim_age  \n",
       "2                               Simple Assault             M        23.0  \n",
       "3                     Theft From Motor Vehicle             M        32.0  \n",
       "4                                     Fondling             F        30.0  \n",
       "5                            All Other Larceny             M        31.0  \n",
       "6                            All Other Larceny             M        41.0  \n",
       "...                                        ...           ...         ...  \n",
       "7669  Destruction/Damage/Vandalism of Property             F        37.0  \n",
       "7670  Destruction/Damage/Vandalism of Property             F        57.0  \n",
       "7671                  Theft From Motor Vehicle             M        68.0  \n",
       "7672                  Theft From Motor Vehicle             F        37.0  \n",
       "7673                  Theft From Motor Vehicle             F        57.0  \n",
       "\n",
       "[8768 rows x 6 columns]"
      ]
     },
     "execution_count": 4,
     "metadata": {},
     "output_type": "execute_result"
    }
   ],
   "source": [
    "def clean_df_func():\n",
    "    return (df\n",
    " #filters\n",
    " [(df[\"VICTIM_TYPE_NAME\"]==\"Individual\")\n",
    " &(df[\"victim_gender\"]!=\"U\")]\n",
    " \n",
    " #dropping columns with ID numbers and columns out of scope\n",
    " .drop(columns=[\n",
    "     \"NIBRS_MONTH_ID\",\n",
    "     \"OFFENSE_ID\",\n",
    "     \"OFFENSE_TYPE_ID\",\n",
    "     \"LOCATION_ID\",\n",
    "     \"CRIME_AGAINST\",\n",
    "     \"OFFENDER_ID\",\n",
    "     \"offender_gender\",\n",
    "     \"offender_age_id\",\n",
    "     \"offender_age\",\n",
    "     \"offender_age_range_low\",\n",
    "     \"offender_age_range_high\",\n",
    "     \"VICTIM_TYPE_ID\",\n",
    "     \"victim_age_id\",\n",
    "     \"victim_age_range_low\",\n",
    "     \"victim_age_range_high\",\n",
    "     \"victim_resident_code\",\n",
    "     \"CIRCUMSTANCES_ID\",\n",
    "     \"CIRCUMSTANCES_NAME\",\n",
    "     \"VICTIM_TYPE_NAME\",\n",
    "#     \"BIAS_ID\",\n",
    "#     \"RELATIONSHIP_ID\",\n",
    "#     \"RELATIONSHIP_NAME\",\n",
    "#     \"RELATIONSHIP_TYPE_ID\",\n",
    "#     \"BIAS_CATEGORY\",\n",
    "#     \"BIAS_DESC\",\n",
    "     \"OFFENSE_CATEGORY_NAME\"\n",
    "               ])\n",
    " \n",
    " #lower case for all\n",
    " .rename(columns=str.lower)\n",
    " .drop_duplicates()\n",
    " \n",
    "  #dropping last ID columns and columns out of scope\n",
    " .drop(columns=[\n",
    "     \"incident_id\",\n",
    "     \"victim_id\"\n",
    "                ])\n",
    " \n",
    " #filling NaN for incident hour column\n",
    " .fillna(15.5)\n",
    ")\n",
    "\n",
    "clean_df = clean_df_func()\n",
    "clean_df"
   ]
  },
  {
   "cell_type": "code",
   "execution_count": 5,
   "id": "56546420",
   "metadata": {
    "slideshow": {
     "slide_type": "skip"
    }
   },
   "outputs": [
    {
     "data": {
      "text/plain": [
       "incident_hour    0\n",
       "month_num        0\n",
       "location_name    0\n",
       "offense_name     0\n",
       "victim_gender    0\n",
       "victim_age       0\n",
       "dtype: int64"
      ]
     },
     "execution_count": 5,
     "metadata": {},
     "output_type": "execute_result"
    }
   ],
   "source": [
    "#checking there are no more NaN values\n",
    "clean_df.isna().sum()"
   ]
  },
  {
   "cell_type": "code",
   "execution_count": 6,
   "id": "07a5f6c9",
   "metadata": {
    "slideshow": {
     "slide_type": "skip"
    }
   },
   "outputs": [
    {
     "data": {
      "text/plain": [
       "Simple Assault                                 2863\n",
       "Destruction/Damage/Vandalism of Property       1183\n",
       "All Other Larceny                              1004\n",
       "Robbery                                         984\n",
       "Purse-snatching                                 618\n",
       "Theft From Motor Vehicle                        559\n",
       "Aggravated Assault                              404\n",
       "Intimidation                                    319\n",
       "Fondling                                        178\n",
       "Pocket-picking                                  159\n",
       "Theft of Motor Vehicle Parts or Accessories     135\n",
       "Motor Vehicle Theft                             118\n",
       "Stolen Property Offenses                         77\n",
       "Weapon Law Violations                            64\n",
       "Drug/Narcotic Violations                         33\n",
       "Kidnapping/Abduction                             17\n",
       "Credit Card/Automated Teller Machine Fraud       13\n",
       "False Pretenses/Swindle/Confidence Game          10\n",
       "Theft From Building                               8\n",
       "Drug Equipment Violations                         8\n",
       "Rape                                              6\n",
       "Sodomy                                            2\n",
       "Counterfeiting/Forgery                            2\n",
       "Burglary/Breaking & Entering                      1\n",
       "Impersonation                                     1\n",
       "Prostitution                                      1\n",
       "Extortion/Blackmail                               1\n",
       "Name: offense_name, dtype: int64"
      ]
     },
     "execution_count": 6,
     "metadata": {},
     "output_type": "execute_result"
    }
   ],
   "source": [
    "clean_df[\"offense_name\"].value_counts()"
   ]
  },
  {
   "cell_type": "markdown",
   "id": "52b53215",
   "metadata": {
    "slideshow": {
     "slide_type": "skip"
    }
   },
   "source": [
    "## Further cleaning (because of imbalance)"
   ]
  },
  {
   "cell_type": "code",
   "execution_count": 7,
   "id": "1180533e",
   "metadata": {
    "slideshow": {
     "slide_type": "skip"
    }
   },
   "outputs": [],
   "source": [
    "dict = {\n",
    "    \"Stolen Property Offenses\":\"Other_less_common\",\n",
    "    \"Weapon Law Violations\":\"Other_less_common\",\n",
    "    \"Drug/Narcotic Violations\": \"Other_less_common\",\n",
    "    \"Kidnapping/Abduction\": \"Other_less_common\",\n",
    "    \"Credit Card/Automated Teller Machine Fraud\": \"Other_less_common\",\n",
    "    \"False Pretenses/Swindle/Confidence Game\": \"Other_less_common\",\n",
    "    \"Theft From Building\": \"Other_less_common\",    \n",
    "    \"Drug Equipment Violations\": \"Other_less_common\",\n",
    "    \"Rape\": \"Other_less_common\",\n",
    "    \"Sodomy\": \"Other_less_common\",\n",
    "    \"Counterfeiting/Forgery\": \"Other_less_common\",\n",
    "    \"Burglary/Breaking & Entering\": \"Other_less_common\",\n",
    "    \"Impersonation\": \"Other_less_common\",\n",
    "    \"Prostitution\": \"Other_less_common\",\n",
    "    \"Extortion/Blackmail\": \"Other_less_common\"\n",
    "        }\n",
    "\n",
    "# Dropping rows with \"Simple Assault\"\n",
    "df_ready = (clean_df\n",
    " [clean_df[\"offense_name\" ]!=\"Simple Assault\"]\n",
    " \n",
    "# Replacing (grouping) values whose occurrence is less than 100 \"Other_less_common\" \n",
    " .replace({\"offense_name\": dict})\n",
    ")"
   ]
  },
  {
   "cell_type": "code",
   "execution_count": 8,
   "id": "e5aae179",
   "metadata": {
    "slideshow": {
     "slide_type": "skip"
    }
   },
   "outputs": [
    {
     "data": {
      "text/plain": [
       "Destruction/Damage/Vandalism of Property       1183\n",
       "All Other Larceny                              1004\n",
       "Robbery                                         984\n",
       "Purse-snatching                                 618\n",
       "Theft From Motor Vehicle                        559\n",
       "Aggravated Assault                              404\n",
       "Intimidation                                    319\n",
       "Other_less_common                               244\n",
       "Fondling                                        178\n",
       "Pocket-picking                                  159\n",
       "Theft of Motor Vehicle Parts or Accessories     135\n",
       "Motor Vehicle Theft                             118\n",
       "Name: offense_name, dtype: int64"
      ]
     },
     "execution_count": 8,
     "metadata": {},
     "output_type": "execute_result"
    }
   ],
   "source": [
    "df_ready[\"offense_name\"].value_counts()"
   ]
  },
  {
   "cell_type": "code",
   "execution_count": 9,
   "id": "5b6970ab",
   "metadata": {
    "slideshow": {
     "slide_type": "skip"
    }
   },
   "outputs": [
    {
     "data": {
      "text/html": [
       "<div>\n",
       "<style scoped>\n",
       "    .dataframe tbody tr th:only-of-type {\n",
       "        vertical-align: middle;\n",
       "    }\n",
       "\n",
       "    .dataframe tbody tr th {\n",
       "        vertical-align: top;\n",
       "    }\n",
       "\n",
       "    .dataframe thead th {\n",
       "        text-align: right;\n",
       "    }\n",
       "</style>\n",
       "<table border=\"1\" class=\"dataframe\">\n",
       "  <thead>\n",
       "    <tr style=\"text-align: right;\">\n",
       "      <th></th>\n",
       "      <th>incident_hour</th>\n",
       "      <th>month_num</th>\n",
       "      <th>location_name</th>\n",
       "      <th>offense_name</th>\n",
       "      <th>victim_gender</th>\n",
       "      <th>victim_age</th>\n",
       "    </tr>\n",
       "  </thead>\n",
       "  <tbody>\n",
       "    <tr>\n",
       "      <th>3</th>\n",
       "      <td>23.0</td>\n",
       "      <td>6</td>\n",
       "      <td>Parking/Drop Lot/Garage</td>\n",
       "      <td>Theft From Motor Vehicle</td>\n",
       "      <td>M</td>\n",
       "      <td>32.0</td>\n",
       "    </tr>\n",
       "    <tr>\n",
       "      <th>4</th>\n",
       "      <td>18.0</td>\n",
       "      <td>6</td>\n",
       "      <td>Air/Bus/Train Terminal</td>\n",
       "      <td>Fondling</td>\n",
       "      <td>F</td>\n",
       "      <td>30.0</td>\n",
       "    </tr>\n",
       "    <tr>\n",
       "      <th>5</th>\n",
       "      <td>6.0</td>\n",
       "      <td>1</td>\n",
       "      <td>Air/Bus/Train Terminal</td>\n",
       "      <td>All Other Larceny</td>\n",
       "      <td>M</td>\n",
       "      <td>31.0</td>\n",
       "    </tr>\n",
       "    <tr>\n",
       "      <th>6</th>\n",
       "      <td>8.0</td>\n",
       "      <td>1</td>\n",
       "      <td>Air/Bus/Train Terminal</td>\n",
       "      <td>All Other Larceny</td>\n",
       "      <td>M</td>\n",
       "      <td>41.0</td>\n",
       "    </tr>\n",
       "    <tr>\n",
       "      <th>12</th>\n",
       "      <td>18.0</td>\n",
       "      <td>8</td>\n",
       "      <td>Air/Bus/Train Terminal</td>\n",
       "      <td>Pocket-picking</td>\n",
       "      <td>F</td>\n",
       "      <td>52.0</td>\n",
       "    </tr>\n",
       "    <tr>\n",
       "      <th>...</th>\n",
       "      <td>...</td>\n",
       "      <td>...</td>\n",
       "      <td>...</td>\n",
       "      <td>...</td>\n",
       "      <td>...</td>\n",
       "      <td>...</td>\n",
       "    </tr>\n",
       "    <tr>\n",
       "      <th>7669</th>\n",
       "      <td>15.5</td>\n",
       "      <td>12</td>\n",
       "      <td>Parking/Drop Lot/Garage</td>\n",
       "      <td>Destruction/Damage/Vandalism of Property</td>\n",
       "      <td>F</td>\n",
       "      <td>37.0</td>\n",
       "    </tr>\n",
       "    <tr>\n",
       "      <th>7670</th>\n",
       "      <td>15.5</td>\n",
       "      <td>12</td>\n",
       "      <td>Parking/Drop Lot/Garage</td>\n",
       "      <td>Destruction/Damage/Vandalism of Property</td>\n",
       "      <td>F</td>\n",
       "      <td>57.0</td>\n",
       "    </tr>\n",
       "    <tr>\n",
       "      <th>7671</th>\n",
       "      <td>15.5</td>\n",
       "      <td>12</td>\n",
       "      <td>Parking/Drop Lot/Garage</td>\n",
       "      <td>Theft From Motor Vehicle</td>\n",
       "      <td>M</td>\n",
       "      <td>68.0</td>\n",
       "    </tr>\n",
       "    <tr>\n",
       "      <th>7672</th>\n",
       "      <td>15.5</td>\n",
       "      <td>12</td>\n",
       "      <td>Parking/Drop Lot/Garage</td>\n",
       "      <td>Theft From Motor Vehicle</td>\n",
       "      <td>F</td>\n",
       "      <td>37.0</td>\n",
       "    </tr>\n",
       "    <tr>\n",
       "      <th>7673</th>\n",
       "      <td>15.5</td>\n",
       "      <td>12</td>\n",
       "      <td>Parking/Drop Lot/Garage</td>\n",
       "      <td>Theft From Motor Vehicle</td>\n",
       "      <td>F</td>\n",
       "      <td>57.0</td>\n",
       "    </tr>\n",
       "  </tbody>\n",
       "</table>\n",
       "<p>5905 rows × 6 columns</p>\n",
       "</div>"
      ],
      "text/plain": [
       "      incident_hour  month_num            location_name  \\\n",
       "3              23.0          6  Parking/Drop Lot/Garage   \n",
       "4              18.0          6   Air/Bus/Train Terminal   \n",
       "5               6.0          1   Air/Bus/Train Terminal   \n",
       "6               8.0          1   Air/Bus/Train Terminal   \n",
       "12             18.0          8   Air/Bus/Train Terminal   \n",
       "...             ...        ...                      ...   \n",
       "7669           15.5         12  Parking/Drop Lot/Garage   \n",
       "7670           15.5         12  Parking/Drop Lot/Garage   \n",
       "7671           15.5         12  Parking/Drop Lot/Garage   \n",
       "7672           15.5         12  Parking/Drop Lot/Garage   \n",
       "7673           15.5         12  Parking/Drop Lot/Garage   \n",
       "\n",
       "                                  offense_name victim_gender  victim_age  \n",
       "3                     Theft From Motor Vehicle             M        32.0  \n",
       "4                                     Fondling             F        30.0  \n",
       "5                            All Other Larceny             M        31.0  \n",
       "6                            All Other Larceny             M        41.0  \n",
       "12                              Pocket-picking             F        52.0  \n",
       "...                                        ...           ...         ...  \n",
       "7669  Destruction/Damage/Vandalism of Property             F        37.0  \n",
       "7670  Destruction/Damage/Vandalism of Property             F        57.0  \n",
       "7671                  Theft From Motor Vehicle             M        68.0  \n",
       "7672                  Theft From Motor Vehicle             F        37.0  \n",
       "7673                  Theft From Motor Vehicle             F        57.0  \n",
       "\n",
       "[5905 rows x 6 columns]"
      ]
     },
     "execution_count": 9,
     "metadata": {},
     "output_type": "execute_result"
    }
   ],
   "source": [
    "df_ready"
   ]
  },
  {
   "cell_type": "markdown",
   "id": "934ba9a6",
   "metadata": {
    "slideshow": {
     "slide_type": "skip"
    }
   },
   "source": [
    "# Data Transformation"
   ]
  },
  {
   "cell_type": "code",
   "execution_count": 10,
   "id": "a036a194",
   "metadata": {
    "slideshow": {
     "slide_type": "skip"
    }
   },
   "outputs": [],
   "source": [
    "def ready_x_data_func(already_cleaned_df):\n",
    "    if \"offense_name\" in already_cleaned_df.columns:\n",
    "        location_dummies = pd.get_dummies(already_cleaned_df[[\"location_name\"]])\n",
    "        gender_dummies = pd.get_dummies(already_cleaned_df[[\"victim_gender\"]], drop_first=True)\n",
    "        df_minus_dummies = already_cleaned_df.drop(columns=[\"location_name\",\"offense_name\",\"victim_gender\"])\n",
    "        return pd.concat([location_dummies, gender_dummies, df_minus_dummies], axis=1)\n",
    "    else:\n",
    "        location_dummies = pd.get_dummies(already_cleaned_df[[\"location_name\"]])\n",
    "        gender_dummies = pd.get_dummies(already_cleaned_df[[\"victim_gender\"]], drop_first=True)\n",
    "        df_minus_dummies = already_cleaned_df.drop(columns=[\"location_name\",\"victim_gender\"])\n",
    "        return pd.concat([location_dummies, gender_dummies, df_minus_dummies], axis=1)"
   ]
  },
  {
   "cell_type": "markdown",
   "id": "7b751f9f",
   "metadata": {
    "slideshow": {
     "slide_type": "skip"
    }
   },
   "source": [
    "# Modelling"
   ]
  },
  {
   "cell_type": "markdown",
   "id": "3bef46d1",
   "metadata": {
    "slideshow": {
     "slide_type": "skip"
    }
   },
   "source": [
    "## Modelling libraries"
   ]
  },
  {
   "cell_type": "code",
   "execution_count": 11,
   "id": "3902ab85",
   "metadata": {
    "slideshow": {
     "slide_type": "skip"
    }
   },
   "outputs": [],
   "source": [
    "from sklearn.model_selection import train_test_split\n",
    "from sklearn.ensemble import RandomForestClassifier\n",
    "from sklearn.metrics import plot_confusion_matrix\n",
    "from sklearn.metrics import classification_report\n",
    "from sklearn.metrics import accuracy_score, precision_score, recall_score, confusion_matrix\n",
    "from imblearn.over_sampling import SMOTE"
   ]
  },
  {
   "cell_type": "markdown",
   "id": "dd83a501",
   "metadata": {
    "slideshow": {
     "slide_type": "skip"
    }
   },
   "source": [
    "## X and y definition"
   ]
  },
  {
   "cell_type": "code",
   "execution_count": 12,
   "id": "1e28ae2e",
   "metadata": {
    "slideshow": {
     "slide_type": "skip"
    }
   },
   "outputs": [
    {
     "data": {
      "text/html": [
       "<div>\n",
       "<style scoped>\n",
       "    .dataframe tbody tr th:only-of-type {\n",
       "        vertical-align: middle;\n",
       "    }\n",
       "\n",
       "    .dataframe tbody tr th {\n",
       "        vertical-align: top;\n",
       "    }\n",
       "\n",
       "    .dataframe thead th {\n",
       "        text-align: right;\n",
       "    }\n",
       "</style>\n",
       "<table border=\"1\" class=\"dataframe\">\n",
       "  <thead>\n",
       "    <tr style=\"text-align: right;\">\n",
       "      <th></th>\n",
       "      <th>location_name_Air/Bus/Train Terminal</th>\n",
       "      <th>location_name_Bank/Savings and Loan</th>\n",
       "      <th>location_name_Commercial/Office Building</th>\n",
       "      <th>location_name_Government/Public Building</th>\n",
       "      <th>location_name_Highway/Road/Alley/Street/Sidewalk</th>\n",
       "      <th>location_name_Industrial Site</th>\n",
       "      <th>location_name_Other/Unknown</th>\n",
       "      <th>location_name_Parking/Drop Lot/Garage</th>\n",
       "      <th>location_name_Residence/Home</th>\n",
       "      <th>location_name_School/College</th>\n",
       "      <th>victim_gender_M</th>\n",
       "      <th>incident_hour</th>\n",
       "      <th>month_num</th>\n",
       "      <th>victim_age</th>\n",
       "    </tr>\n",
       "  </thead>\n",
       "  <tbody>\n",
       "    <tr>\n",
       "      <th>3</th>\n",
       "      <td>0</td>\n",
       "      <td>0</td>\n",
       "      <td>0</td>\n",
       "      <td>0</td>\n",
       "      <td>0</td>\n",
       "      <td>0</td>\n",
       "      <td>0</td>\n",
       "      <td>1</td>\n",
       "      <td>0</td>\n",
       "      <td>0</td>\n",
       "      <td>1</td>\n",
       "      <td>23.0</td>\n",
       "      <td>6</td>\n",
       "      <td>32.0</td>\n",
       "    </tr>\n",
       "    <tr>\n",
       "      <th>4</th>\n",
       "      <td>1</td>\n",
       "      <td>0</td>\n",
       "      <td>0</td>\n",
       "      <td>0</td>\n",
       "      <td>0</td>\n",
       "      <td>0</td>\n",
       "      <td>0</td>\n",
       "      <td>0</td>\n",
       "      <td>0</td>\n",
       "      <td>0</td>\n",
       "      <td>0</td>\n",
       "      <td>18.0</td>\n",
       "      <td>6</td>\n",
       "      <td>30.0</td>\n",
       "    </tr>\n",
       "    <tr>\n",
       "      <th>5</th>\n",
       "      <td>1</td>\n",
       "      <td>0</td>\n",
       "      <td>0</td>\n",
       "      <td>0</td>\n",
       "      <td>0</td>\n",
       "      <td>0</td>\n",
       "      <td>0</td>\n",
       "      <td>0</td>\n",
       "      <td>0</td>\n",
       "      <td>0</td>\n",
       "      <td>1</td>\n",
       "      <td>6.0</td>\n",
       "      <td>1</td>\n",
       "      <td>31.0</td>\n",
       "    </tr>\n",
       "    <tr>\n",
       "      <th>6</th>\n",
       "      <td>1</td>\n",
       "      <td>0</td>\n",
       "      <td>0</td>\n",
       "      <td>0</td>\n",
       "      <td>0</td>\n",
       "      <td>0</td>\n",
       "      <td>0</td>\n",
       "      <td>0</td>\n",
       "      <td>0</td>\n",
       "      <td>0</td>\n",
       "      <td>1</td>\n",
       "      <td>8.0</td>\n",
       "      <td>1</td>\n",
       "      <td>41.0</td>\n",
       "    </tr>\n",
       "    <tr>\n",
       "      <th>12</th>\n",
       "      <td>1</td>\n",
       "      <td>0</td>\n",
       "      <td>0</td>\n",
       "      <td>0</td>\n",
       "      <td>0</td>\n",
       "      <td>0</td>\n",
       "      <td>0</td>\n",
       "      <td>0</td>\n",
       "      <td>0</td>\n",
       "      <td>0</td>\n",
       "      <td>0</td>\n",
       "      <td>18.0</td>\n",
       "      <td>8</td>\n",
       "      <td>52.0</td>\n",
       "    </tr>\n",
       "    <tr>\n",
       "      <th>...</th>\n",
       "      <td>...</td>\n",
       "      <td>...</td>\n",
       "      <td>...</td>\n",
       "      <td>...</td>\n",
       "      <td>...</td>\n",
       "      <td>...</td>\n",
       "      <td>...</td>\n",
       "      <td>...</td>\n",
       "      <td>...</td>\n",
       "      <td>...</td>\n",
       "      <td>...</td>\n",
       "      <td>...</td>\n",
       "      <td>...</td>\n",
       "      <td>...</td>\n",
       "    </tr>\n",
       "    <tr>\n",
       "      <th>7669</th>\n",
       "      <td>0</td>\n",
       "      <td>0</td>\n",
       "      <td>0</td>\n",
       "      <td>0</td>\n",
       "      <td>0</td>\n",
       "      <td>0</td>\n",
       "      <td>0</td>\n",
       "      <td>1</td>\n",
       "      <td>0</td>\n",
       "      <td>0</td>\n",
       "      <td>0</td>\n",
       "      <td>15.5</td>\n",
       "      <td>12</td>\n",
       "      <td>37.0</td>\n",
       "    </tr>\n",
       "    <tr>\n",
       "      <th>7670</th>\n",
       "      <td>0</td>\n",
       "      <td>0</td>\n",
       "      <td>0</td>\n",
       "      <td>0</td>\n",
       "      <td>0</td>\n",
       "      <td>0</td>\n",
       "      <td>0</td>\n",
       "      <td>1</td>\n",
       "      <td>0</td>\n",
       "      <td>0</td>\n",
       "      <td>0</td>\n",
       "      <td>15.5</td>\n",
       "      <td>12</td>\n",
       "      <td>57.0</td>\n",
       "    </tr>\n",
       "    <tr>\n",
       "      <th>7671</th>\n",
       "      <td>0</td>\n",
       "      <td>0</td>\n",
       "      <td>0</td>\n",
       "      <td>0</td>\n",
       "      <td>0</td>\n",
       "      <td>0</td>\n",
       "      <td>0</td>\n",
       "      <td>1</td>\n",
       "      <td>0</td>\n",
       "      <td>0</td>\n",
       "      <td>1</td>\n",
       "      <td>15.5</td>\n",
       "      <td>12</td>\n",
       "      <td>68.0</td>\n",
       "    </tr>\n",
       "    <tr>\n",
       "      <th>7672</th>\n",
       "      <td>0</td>\n",
       "      <td>0</td>\n",
       "      <td>0</td>\n",
       "      <td>0</td>\n",
       "      <td>0</td>\n",
       "      <td>0</td>\n",
       "      <td>0</td>\n",
       "      <td>1</td>\n",
       "      <td>0</td>\n",
       "      <td>0</td>\n",
       "      <td>0</td>\n",
       "      <td>15.5</td>\n",
       "      <td>12</td>\n",
       "      <td>37.0</td>\n",
       "    </tr>\n",
       "    <tr>\n",
       "      <th>7673</th>\n",
       "      <td>0</td>\n",
       "      <td>0</td>\n",
       "      <td>0</td>\n",
       "      <td>0</td>\n",
       "      <td>0</td>\n",
       "      <td>0</td>\n",
       "      <td>0</td>\n",
       "      <td>1</td>\n",
       "      <td>0</td>\n",
       "      <td>0</td>\n",
       "      <td>0</td>\n",
       "      <td>15.5</td>\n",
       "      <td>12</td>\n",
       "      <td>57.0</td>\n",
       "    </tr>\n",
       "  </tbody>\n",
       "</table>\n",
       "<p>5905 rows × 14 columns</p>\n",
       "</div>"
      ],
      "text/plain": [
       "      location_name_Air/Bus/Train Terminal  \\\n",
       "3                                        0   \n",
       "4                                        1   \n",
       "5                                        1   \n",
       "6                                        1   \n",
       "12                                       1   \n",
       "...                                    ...   \n",
       "7669                                     0   \n",
       "7670                                     0   \n",
       "7671                                     0   \n",
       "7672                                     0   \n",
       "7673                                     0   \n",
       "\n",
       "      location_name_Bank/Savings and Loan  \\\n",
       "3                                       0   \n",
       "4                                       0   \n",
       "5                                       0   \n",
       "6                                       0   \n",
       "12                                      0   \n",
       "...                                   ...   \n",
       "7669                                    0   \n",
       "7670                                    0   \n",
       "7671                                    0   \n",
       "7672                                    0   \n",
       "7673                                    0   \n",
       "\n",
       "      location_name_Commercial/Office Building  \\\n",
       "3                                            0   \n",
       "4                                            0   \n",
       "5                                            0   \n",
       "6                                            0   \n",
       "12                                           0   \n",
       "...                                        ...   \n",
       "7669                                         0   \n",
       "7670                                         0   \n",
       "7671                                         0   \n",
       "7672                                         0   \n",
       "7673                                         0   \n",
       "\n",
       "      location_name_Government/Public Building  \\\n",
       "3                                            0   \n",
       "4                                            0   \n",
       "5                                            0   \n",
       "6                                            0   \n",
       "12                                           0   \n",
       "...                                        ...   \n",
       "7669                                         0   \n",
       "7670                                         0   \n",
       "7671                                         0   \n",
       "7672                                         0   \n",
       "7673                                         0   \n",
       "\n",
       "      location_name_Highway/Road/Alley/Street/Sidewalk  \\\n",
       "3                                                    0   \n",
       "4                                                    0   \n",
       "5                                                    0   \n",
       "6                                                    0   \n",
       "12                                                   0   \n",
       "...                                                ...   \n",
       "7669                                                 0   \n",
       "7670                                                 0   \n",
       "7671                                                 0   \n",
       "7672                                                 0   \n",
       "7673                                                 0   \n",
       "\n",
       "      location_name_Industrial Site  location_name_Other/Unknown  \\\n",
       "3                                 0                            0   \n",
       "4                                 0                            0   \n",
       "5                                 0                            0   \n",
       "6                                 0                            0   \n",
       "12                                0                            0   \n",
       "...                             ...                          ...   \n",
       "7669                              0                            0   \n",
       "7670                              0                            0   \n",
       "7671                              0                            0   \n",
       "7672                              0                            0   \n",
       "7673                              0                            0   \n",
       "\n",
       "      location_name_Parking/Drop Lot/Garage  location_name_Residence/Home  \\\n",
       "3                                         1                             0   \n",
       "4                                         0                             0   \n",
       "5                                         0                             0   \n",
       "6                                         0                             0   \n",
       "12                                        0                             0   \n",
       "...                                     ...                           ...   \n",
       "7669                                      1                             0   \n",
       "7670                                      1                             0   \n",
       "7671                                      1                             0   \n",
       "7672                                      1                             0   \n",
       "7673                                      1                             0   \n",
       "\n",
       "      location_name_School/College  victim_gender_M  incident_hour  month_num  \\\n",
       "3                                0                1           23.0          6   \n",
       "4                                0                0           18.0          6   \n",
       "5                                0                1            6.0          1   \n",
       "6                                0                1            8.0          1   \n",
       "12                               0                0           18.0          8   \n",
       "...                            ...              ...            ...        ...   \n",
       "7669                             0                0           15.5         12   \n",
       "7670                             0                0           15.5         12   \n",
       "7671                             0                1           15.5         12   \n",
       "7672                             0                0           15.5         12   \n",
       "7673                             0                0           15.5         12   \n",
       "\n",
       "      victim_age  \n",
       "3           32.0  \n",
       "4           30.0  \n",
       "5           31.0  \n",
       "6           41.0  \n",
       "12          52.0  \n",
       "...          ...  \n",
       "7669        37.0  \n",
       "7670        57.0  \n",
       "7671        68.0  \n",
       "7672        37.0  \n",
       "7673        57.0  \n",
       "\n",
       "[5905 rows x 14 columns]"
      ]
     },
     "execution_count": 12,
     "metadata": {},
     "output_type": "execute_result"
    }
   ],
   "source": [
    "X = ready_x_data_func(df_ready)\n",
    "X"
   ]
  },
  {
   "cell_type": "code",
   "execution_count": 13,
   "id": "c95129ba",
   "metadata": {
    "slideshow": {
     "slide_type": "skip"
    }
   },
   "outputs": [
    {
     "data": {
      "text/plain": [
       "3                       Theft From Motor Vehicle\n",
       "4                                       Fondling\n",
       "5                              All Other Larceny\n",
       "6                              All Other Larceny\n",
       "12                                Pocket-picking\n",
       "                          ...                   \n",
       "7669    Destruction/Damage/Vandalism of Property\n",
       "7670    Destruction/Damage/Vandalism of Property\n",
       "7671                    Theft From Motor Vehicle\n",
       "7672                    Theft From Motor Vehicle\n",
       "7673                    Theft From Motor Vehicle\n",
       "Name: offense_name, Length: 5905, dtype: object"
      ]
     },
     "execution_count": 13,
     "metadata": {},
     "output_type": "execute_result"
    }
   ],
   "source": [
    "y = df_ready[\"offense_name\"]\n",
    "y"
   ]
  },
  {
   "cell_type": "code",
   "execution_count": 14,
   "id": "e5a853a3",
   "metadata": {
    "slideshow": {
     "slide_type": "skip"
    }
   },
   "outputs": [
    {
     "name": "stdout",
     "output_type": "stream",
     "text": [
      "0.4051918735891648\n"
     ]
    },
    {
     "data": {
      "image/png": "[encoded data removed]",
      "text/plain": [
       "<Figure size 640x480 with 2 Axes>"
      ]
     },
     "metadata": {},
     "output_type": "display_data"
    }
   ],
   "source": [
    "X_train, X_test, y_train, y_test = train_test_split(X, y, test_size=0.30)\n",
    "clf = RandomForestClassifier(max_depth=7, random_state=0)\n",
    "clf.fit(X_train, y_train)\n",
    "print(clf.score(X_test, y_test))\n",
    "plot_confusion_matrix(clf,X_test,y_test);\n",
    "plt.xticks(rotation=45)\n",
    "plt.show()"
   ]
  },
  {
   "cell_type": "code",
   "execution_count": 15,
   "id": "66464d47",
   "metadata": {
    "slideshow": {
     "slide_type": "skip"
    }
   },
   "outputs": [],
   "source": [
    "smote = SMOTE()\n",
    "X_sm, y_sm = smote.fit_resample(X_train, y_train)"
   ]
  },
  {
   "cell_type": "code",
   "execution_count": 16,
   "id": "21ea2f55",
   "metadata": {
    "slideshow": {
     "slide_type": "skip"
    }
   },
   "outputs": [
    {
     "data": {
      "text/plain": [
       "Aggravated Assault                             810\n",
       "All Other Larceny                              810\n",
       "Destruction/Damage/Vandalism of Property       810\n",
       "Theft of Motor Vehicle Parts or Accessories    810\n",
       "Robbery                                        810\n",
       "Fondling                                       810\n",
       "Purse-snatching                                810\n",
       "Other_less_common                              810\n",
       "Theft From Motor Vehicle                       810\n",
       "Intimidation                                   810\n",
       "Pocket-picking                                 810\n",
       "Motor Vehicle Theft                            810\n",
       "Name: offense_name, dtype: int64"
      ]
     },
     "execution_count": 16,
     "metadata": {},
     "output_type": "execute_result"
    }
   ],
   "source": [
    "y_sm.value_counts()"
   ]
  },
  {
   "cell_type": "code",
   "execution_count": 17,
   "id": "34fe338d",
   "metadata": {
    "slideshow": {
     "slide_type": "skip"
    }
   },
   "outputs": [
    {
     "name": "stdout",
     "output_type": "stream",
     "text": [
      "0.7304526748971193\n"
     ]
    },
    {
     "data": {
      "image/png": "[encoded data removed]",
      "text/plain": [
       "<Figure size 640x480 with 2 Axes>"
      ]
     },
     "metadata": {},
     "output_type": "display_data"
    }
   ],
   "source": [
    "clf_sm = RandomForestClassifier(max_depth=11, random_state=0)\n",
    "clf_sm.fit(X_sm, y_sm)\n",
    "print(clf_sm.score(X_sm, y_sm))\n",
    "plot_confusion_matrix(clf_sm,X_test,y_test);\n",
    "plt.xticks(rotation=45)\n",
    "plt.show()\n",
    "#grid_search+cross validation next possible steps"
   ]
  },
  {
   "cell_type": "markdown",
   "id": "78e8d2c3",
   "metadata": {
    "slideshow": {
     "slide_type": "skip"
    }
   },
   "source": [
    "# UX"
   ]
  },
  {
   "cell_type": "code",
   "execution_count": 18,
   "id": "b2b3b2a0",
   "metadata": {
    "slideshow": {
     "slide_type": "skip"
    }
   },
   "outputs": [],
   "source": [
    "import ipywidgets as widgets"
   ]
  },
  {
   "cell_type": "code",
   "execution_count": 19,
   "id": "9f5b7013",
   "metadata": {
    "slideshow": {
     "slide_type": "skip"
    }
   },
   "outputs": [
    {
     "data": {
      "text/plain": [
       "Index(['location_name_Air/Bus/Train Terminal',\n",
       "       'location_name_Bank/Savings and Loan',\n",
       "       'location_name_Commercial/Office Building',\n",
       "       'location_name_Government/Public Building',\n",
       "       'location_name_Highway/Road/Alley/Street/Sidewalk',\n",
       "       'location_name_Industrial Site', 'location_name_Other/Unknown',\n",
       "       'location_name_Parking/Drop Lot/Garage', 'location_name_Residence/Home',\n",
       "       'location_name_School/College', 'victim_gender_M', 'incident_hour',\n",
       "       'month_num', 'victim_age'],\n",
       "      dtype='object')"
      ]
     },
     "execution_count": 19,
     "metadata": {},
     "output_type": "execute_result"
    }
   ],
   "source": [
    "X_sm.columns"
   ]
  },
  {
   "cell_type": "code",
   "execution_count": 20,
   "id": "74e66174",
   "metadata": {
    "slideshow": {
     "slide_type": "skip"
    }
   },
   "outputs": [
    {
     "data": {
      "text/html": [
       "<div>\n",
       "<style scoped>\n",
       "    .dataframe tbody tr th:only-of-type {\n",
       "        vertical-align: middle;\n",
       "    }\n",
       "\n",
       "    .dataframe tbody tr th {\n",
       "        vertical-align: top;\n",
       "    }\n",
       "\n",
       "    .dataframe thead th {\n",
       "        text-align: right;\n",
       "    }\n",
       "</style>\n",
       "<table border=\"1\" class=\"dataframe\">\n",
       "  <thead>\n",
       "    <tr style=\"text-align: right;\">\n",
       "      <th></th>\n",
       "      <th>location_name_Air/Bus/Train Terminal</th>\n",
       "      <th>location_name_Bank/Savings and Loan</th>\n",
       "      <th>location_name_Commercial/Office Building</th>\n",
       "      <th>location_name_Government/Public Building</th>\n",
       "      <th>location_name_Highway/Road/Alley/Street/Sidewalk</th>\n",
       "      <th>location_name_Industrial Site</th>\n",
       "      <th>location_name_Other/Unknown</th>\n",
       "      <th>location_name_Parking/Drop Lot/Garage</th>\n",
       "      <th>location_name_Residence/Home</th>\n",
       "      <th>location_name_School/College</th>\n",
       "      <th>victim_gender_M</th>\n",
       "      <th>incident_hour</th>\n",
       "      <th>month_num</th>\n",
       "      <th>victim_age</th>\n",
       "    </tr>\n",
       "  </thead>\n",
       "  <tbody>\n",
       "    <tr>\n",
       "      <th>0</th>\n",
       "      <td>0</td>\n",
       "      <td>0</td>\n",
       "      <td>0</td>\n",
       "      <td>0</td>\n",
       "      <td>0</td>\n",
       "      <td>0</td>\n",
       "      <td>0</td>\n",
       "      <td>0</td>\n",
       "      <td>0</td>\n",
       "      <td>0</td>\n",
       "      <td>0</td>\n",
       "      <td>0</td>\n",
       "      <td>0</td>\n",
       "      <td>0</td>\n",
       "    </tr>\n",
       "  </tbody>\n",
       "</table>\n",
       "</div>"
      ],
      "text/plain": [
       "   location_name_Air/Bus/Train Terminal  location_name_Bank/Savings and Loan  \\\n",
       "0                                     0                                    0   \n",
       "\n",
       "   location_name_Commercial/Office Building  \\\n",
       "0                                         0   \n",
       "\n",
       "   location_name_Government/Public Building  \\\n",
       "0                                         0   \n",
       "\n",
       "   location_name_Highway/Road/Alley/Street/Sidewalk  \\\n",
       "0                                                 0   \n",
       "\n",
       "   location_name_Industrial Site  location_name_Other/Unknown  \\\n",
       "0                              0                            0   \n",
       "\n",
       "   location_name_Parking/Drop Lot/Garage  location_name_Residence/Home  \\\n",
       "0                                      0                             0   \n",
       "\n",
       "   location_name_School/College  victim_gender_M  incident_hour  month_num  \\\n",
       "0                             0                0              0          0   \n",
       "\n",
       "   victim_age  \n",
       "0           0  "
      ]
     },
     "execution_count": 20,
     "metadata": {},
     "output_type": "execute_result"
    }
   ],
   "source": [
    "user_df = pd.DataFrame(\n",
    "    {\n",
    "        'location_name_Air/Bus/Train Terminal':[0],\n",
    "        'location_name_Bank/Savings and Loan':[0],\n",
    "        'location_name_Commercial/Office Building':[0],\n",
    "        'location_name_Government/Public Building':[0],\n",
    "        'location_name_Highway/Road/Alley/Street/Sidewalk':[0],\n",
    "        'location_name_Industrial Site':[0],\n",
    "        'location_name_Other/Unknown':[0],\n",
    "        'location_name_Parking/Drop Lot/Garage':[0],\n",
    "        'location_name_Residence/Home':[0],\n",
    "        'location_name_School/College':[0],\n",
    "        'victim_gender_M':[0],\n",
    "        'incident_hour':[0],\n",
    "        'month_num':[0],\n",
    "        'victim_age':[0] \n",
    "    }\n",
    ")\n",
    "user_df"
   ]
  },
  {
   "cell_type": "code",
   "execution_count": 21,
   "id": "97246f8e",
   "metadata": {
    "slideshow": {
     "slide_type": "skip"
    }
   },
   "outputs": [],
   "source": [
    "user_df.columns\n",
    "locations_dict_correspondance = {\n",
    "    'location_name_Air/Bus/Train Terminal': 0,\n",
    "    'location_name_Bank/Savings and Loan': 1,\n",
    "    'location_name_Commercial/Office Building': 2,\n",
    "    'location_name_Government/Public Building': 3,\n",
    "    'location_name_Highway/Road/Alley/Street/Sidewalk': 4,\n",
    "    'location_name_Industrial Site': 5,\n",
    "    'location_name_Other/Unknown': 6,\n",
    "    'location_name_Parking/Drop Lot/Garage': 7,\n",
    "    'location_name_Residence/Home': 8,\n",
    "    'location_name_School/College': 9\n",
    "}"
   ]
  },
  {
   "cell_type": "code",
   "execution_count": 22,
   "id": "af6812a6",
   "metadata": {
    "scrolled": true,
    "slideshow": {
     "slide_type": "slide"
    }
   },
   "outputs": [
    {
     "data": {
      "application/vnd.jupyter.widget-view+json": {
       "model_id": "21c54ed688824bbd82e69a09f26ed595",
       "version_major": 2,
       "version_minor": 0
      },
      "text/plain": [
       "Dropdown(description='Location', index=1, options=(('Air/Bus/Train Terminal', 'location_name_Air/Bus/Train Ter…"
      ]
     },
     "metadata": {},
     "output_type": "display_data"
    },
    {
     "data": {
      "application/vnd.jupyter.widget-view+json": {
       "model_id": "e5b82c76a8d04b49af93ddcfabdaf44c",
       "version_major": 2,
       "version_minor": 0
      },
      "text/plain": [
       "Dropdown(description='Hour', options=(0, 1, 2, 3, 4, 5, 6, 7, 8, 9, 10, 11, 12, 13, 14, 15, 16, 17, 18, 19, 20…"
      ]
     },
     "metadata": {},
     "output_type": "display_data"
    },
    {
     "data": {
      "application/vnd.jupyter.widget-view+json": {
       "model_id": "1740d4e2b6c245298e33536d8c4f7f42",
       "version_major": 2,
       "version_minor": 0
      },
      "text/plain": [
       "Dropdown(description='Month', options=(0, 1, 2, 3, 4, 5, 6, 7, 8, 9, 10, 11, 12), value=0)"
      ]
     },
     "metadata": {},
     "output_type": "display_data"
    },
    {
     "data": {
      "application/vnd.jupyter.widget-view+json": {
       "model_id": "a1deaff96b204619a3cf62cda54fd9e1",
       "version_major": 2,
       "version_minor": 0
      },
      "text/plain": [
       "Dropdown(description='Victim Gender', options=('M', 'F'), value='M')"
      ]
     },
     "metadata": {},
     "output_type": "display_data"
    },
    {
     "data": {
      "application/vnd.jupyter.widget-view+json": {
       "model_id": "4bf9ef52cfbd4548a0aa4b9174b88d83",
       "version_major": 2,
       "version_minor": 0
      },
      "text/plain": [
       "Dropdown(description='Victim Age', options=(1, 2, 3, 4, 5, 6, 7, 8, 9, 10, 11, 12, 13, 14, 15, 16, 17, 18, 19,…"
      ]
     },
     "metadata": {},
     "output_type": "display_data"
    }
   ],
   "source": [
    "#location widget\n",
    "location_choice = widgets.Dropdown(\n",
    "    options=[\n",
    "        ('Air/Bus/Train Terminal','location_name_Air/Bus/Train Terminal'),\n",
    "        ('Parking/Drop Lot/Garage','location_name_Parking/Drop Lot/Garage'),\n",
    "        ('Highway/Road/Alley/Street/Sidewalk','location_name_Highway/Road/Alley/Street/Sidewalk'),\n",
    "        ('Other/Unknown','location_name_Other/Unknown'),\n",
    "        ('Commercial/Office Building','location_name_Commercial/Office Building'), \n",
    "        ('Government/Public Building','location_name_Government/Public Building'),\n",
    "        ('Residence/Home','location_name_Residence/Home'), \n",
    "        ('School/College','location_name_School/College'), \n",
    "        ('Bank/Savings and Loan','location_name_Bank/Savings and Loan'),\n",
    "        ('Industrial Site','location_name_Industrial Site')\n",
    "   ],\n",
    "    value=\"location_name_Parking/Drop Lot/Garage\",\n",
    "    description=\"Location\",)\n",
    "\n",
    "#incident hour widget\n",
    "incident_hour_choice = widgets.Dropdown(\n",
    "    options = np.arange(0,24,1),\n",
    "    value=0,\n",
    "    description=\"Hour\",)\n",
    "\n",
    "#incident month choice\n",
    "incident_month_choice = widgets.Dropdown(\n",
    "    options = np.arange(0,13,1),\n",
    "    value=0,\n",
    "    description=\"Month\",)\n",
    "\n",
    "#victim gender choice\n",
    "victim_gender_choice = widgets.Dropdown(\n",
    "    options = [\"M\",\"F\"],\n",
    "    value=\"M\",\n",
    "    description=\"Victim Gender\",)\n",
    "\n",
    "\n",
    "#victim age\n",
    "#victim gender choice\n",
    "victim_age_choice = widgets.Dropdown(\n",
    "    options = np.arange(1,93,1),\n",
    "    value=1,\n",
    "    description=\"Victim Age\",)\n",
    "\n",
    "display(location_choice)\n",
    "display(incident_hour_choice)\n",
    "display(incident_month_choice)\n",
    "display(victim_gender_choice)\n",
    "display(victim_age_choice)"
   ]
  },
  {
   "cell_type": "code",
   "execution_count": 24,
   "id": "e90d1781",
   "metadata": {
    "slideshow": {
     "slide_type": "skip"
    }
   },
   "outputs": [
    {
     "name": "stdout",
     "output_type": "stream",
     "text": [
      "Estimated type of offense:  ['Aggravated Assault']\n"
     ]
    }
   ],
   "source": [
    "#reset user DataFrame\n",
    "user_df.loc[:,:] = 0\n",
    "\n",
    "#insert values into user DataFrame...\n",
    "\n",
    "#insert location info\n",
    "user_df.iloc[0,locations_dict_correspondance[location_choice.value]] = 1\n",
    "\n",
    "#insert gender info\n",
    "if victim_gender_choice.value == \"M\":\n",
    "    user_df.iloc[0,10] = 1\n",
    "    \n",
    "#insert hour info\n",
    "user_df.iloc[0,11] = incident_hour_choice.value\n",
    "\n",
    "#insert month info\n",
    "user_df.iloc[0,12] = incident_month_choice.value\n",
    "\n",
    "#insert age info\n",
    "user_df.iloc[0,13] = victim_age_choice.value\n",
    "print(\"Estimated type of offense: \",clf_sm.predict(user_df))"
   ]
  },
  {
   "cell_type": "code",
   "execution_count": null,
   "id": "15d52633",
   "metadata": {},
   "outputs": [],
   "source": []
  }
 ],
 "metadata": {
  "celltoolbar": "Slideshow",
  "kernelspec": {
   "display_name": "Python 3",
   "language": "python",
   "name": "python3"
  },
  "language_info": {
   "codemirror_mode": {
    "name": "ipython",
    "version": 3
   },
   "file_extension": ".py",
   "mimetype": "text/x-python",
   "name": "python",
   "nbconvert_exporter": "python",
   "pygments_lexer": "ipython3",
   "version": "3.8.8"
  }
 },
 "nbformat": 4,
 "nbformat_minor": 5
}
